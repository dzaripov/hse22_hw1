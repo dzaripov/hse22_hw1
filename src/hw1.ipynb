{
 "cells": [
  {
   "cell_type": "code",
   "execution_count": 48,
   "id": "5b6d3b3d-4465-40f4-ad16-eae454bbb81d",
   "metadata": {},
   "outputs": [],
   "source": [
    "def analysis(contig, scaffold):\n",
    "    for i, name in zip([contig, scaffold], ['контиг', 'скаффолд']):\n",
    "        with open(i, \"r\") as f:\n",
    "            length = 0\n",
    "            count = 0\n",
    "            all_ = []\n",
    "            for i in f.readlines():\n",
    "                if i[0] == '>':\n",
    "                    count += 1\n",
    "                    index_len = i.find('len')+3\n",
    "                    length += int(i[index_len : i.find('_', index_len)])\n",
    "                    all_.append(int(i[index_len : i.find('_', index_len)]))\n",
    "            all_.sort(reverse = True)\n",
    "            print(f\"Общее количество {name}ов: {count}\\nОбщая длина {name}ов: {length}\\nДлина самого длинного {name}а: {all_[0]}\")\n",
    "            s = 0\n",
    "            for i in all_:\n",
    "                s += i\n",
    "                if (s >= (length/2)):\n",
    "                    print(\"N50:\", i, '\\n')\n",
    "                    break"
   ]
  },
  {
   "cell_type": "code",
   "execution_count": 49,
   "id": "f7e931f1-0bad-4d92-865f-3f9d83f0fee9",
   "metadata": {},
   "outputs": [],
   "source": [
    "def calculate_gaps_in_scaffold(longest_scaffold):\n",
    "    with open(longest_scaffold, \"r\") as f:\n",
    "        gap_num = 0\n",
    "        gap_full = 0\n",
    "        scaffold_lines = str(f.readlines())\n",
    "        for j in scaffold_lines:\n",
    "            gap_full += j.count(\"N\")\n",
    "        for i in range(1, len(scaffold_lines)):\n",
    "            if scaffold_lines[i] == \"N\" and scaffold_lines[i-1] != \"N\":\n",
    "                gap_num += 1\n",
    "        print(f\"Количество гэпов = {gap_num}\\nОбщая длина гэпов = {gap_full}\")"
   ]
  },
  {
   "cell_type": "code",
   "execution_count": 50,
   "id": "22b8264b-6a7e-4c6f-842d-19f00dfd49f7",
   "metadata": {},
   "outputs": [
    {
     "name": "stdout",
     "output_type": "stream",
     "text": [
      "Общее количество контигов: 625\n",
      "Общая длина контигов: 3926510\n",
      "Длина самого длинного контига: 142016\n",
      "N50: 47611 \n",
      "\n",
      "Общее количество скаффолдов: 68\n",
      "Общая длина скаффолдов: 3876094\n",
      "Длина самого длинного скаффолда: 3834621\n",
      "N50: 3834621 \n",
      "\n"
     ]
    }
   ],
   "source": [
    "analysis('Poil_contig_1.fa', 'Poil_scaffold_1.fa')"
   ]
  },
  {
   "cell_type": "code",
   "execution_count": 53,
   "id": "ecd60594-4bbb-4bb5-8c8c-66c5b563d2e4",
   "metadata": {},
   "outputs": [
    {
     "name": "stdout",
     "output_type": "stream",
     "text": [
      "Количество гэпов = 63\n",
      "Общая длина гэпов = 6704\n"
     ]
    }
   ],
   "source": [
    "calculate_gaps_in_scaffold('longest_scaffold.fna')"
   ]
  },
  {
   "cell_type": "code",
   "execution_count": 54,
   "id": "8667e823-7f65-4795-bc96-a510f4503bdf",
   "metadata": {},
   "outputs": [
    {
     "name": "stdout",
     "output_type": "stream",
     "text": [
      "Количество гэпов = 10\n",
      "Общая длина гэпов = 2095\n"
     ]
    }
   ],
   "source": [
    "calculate_gaps_in_scaffold('longest_scaffold_gapclosed.fna')"
   ]
  },
  {
   "cell_type": "code",
   "execution_count": null,
   "id": "11794379-2344-4f10-ba4e-aae80a98839d",
   "metadata": {},
   "outputs": [],
   "source": []
  },
  {
   "cell_type": "code",
   "execution_count": 55,
   "id": "a80c05d9-b6bd-4cb6-95fa-e16d91ddef6f",
   "metadata": {},
   "outputs": [
    {
     "name": "stdout",
     "output_type": "stream",
     "text": [
      "Общее количество контигов: 1264\n",
      "Общая длина контигов: 3913376\n",
      "Длина самого длинного контига: 187087\n",
      "N50: 64093 \n",
      "\n",
      "Общее количество скаффолдов: 155\n",
      "Общая длина скаффолдов: 3855425\n",
      "Длина самого длинного скаффолда: 2074313\n",
      "N50: 2074313 \n",
      "\n"
     ]
    }
   ],
   "source": [
    "analysis('Poil_contig_2.fa', 'Poil_scaffold_2.fa')"
   ]
  },
  {
   "cell_type": "code",
   "execution_count": 56,
   "id": "7037c57e-0fa3-4484-82d8-8b407972a21b",
   "metadata": {},
   "outputs": [
    {
     "name": "stdout",
     "output_type": "stream",
     "text": [
      "Количество гэпов = 43\n",
      "Общая длина гэпов = 3564\n"
     ]
    }
   ],
   "source": [
    "calculate_gaps_in_scaffold('longest_scaffold_2.fna')"
   ]
  },
  {
   "cell_type": "code",
   "execution_count": 57,
   "id": "c17fc691-89a0-421e-8a61-6a3cb2ad8637",
   "metadata": {},
   "outputs": [
    {
     "name": "stdout",
     "output_type": "stream",
     "text": [
      "Количество гэпов = 15\n",
      "Общая длина гэпов = 2425\n"
     ]
    }
   ],
   "source": [
    "calculate_gaps_in_scaffold('longest_scaffold_gapclosed_2.fna')"
   ]
  }
 ],
 "metadata": {
  "kernelspec": {
   "display_name": "Python 3 (ipykernel)",
   "language": "python",
   "name": "python3"
  },
  "language_info": {
   "codemirror_mode": {
    "name": "ipython",
    "version": 3
   },
   "file_extension": ".py",
   "mimetype": "text/x-python",
   "name": "python",
   "nbconvert_exporter": "python",
   "pygments_lexer": "ipython3",
   "version": "3.9.12"
  }
 },
 "nbformat": 4,
 "nbformat_minor": 5
}
